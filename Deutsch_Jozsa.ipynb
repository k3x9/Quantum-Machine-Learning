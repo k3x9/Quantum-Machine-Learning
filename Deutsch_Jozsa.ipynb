{
  "nbformat": 4,
  "nbformat_minor": 0,
  "metadata": {
    "colab": {
      "provenance": []
    },
    "kernelspec": {
      "name": "python3",
      "display_name": "Python 3"
    },
    "language_info": {
      "name": "python"
    }
  },
  "cells": [
    {
      "cell_type": "code",
      "source": [
        "pip install qiskit"
      ],
      "metadata": {
        "id": "RuIhTChLHkRp"
      },
      "execution_count": null,
      "outputs": []
    },
    {
      "cell_type": "code",
      "execution_count": null,
      "metadata": {
        "id": "P3aL5I6bHT-E"
      },
      "outputs": [],
      "source": [
        "import numpy as np\n",
        "from qiskit import IBMQ, Aer\n",
        "from qiskit.providers.ibmq import least_busy\n",
        "from qiskit import QuantumCircuit, transpile\n",
        "from qiskit.visualization import plot_histogram"
      ]
    },
    {
      "cell_type": "code",
      "source": [
        "def oracle_function(n: int, f: str):\n",
        "    oracle_qc = QuantumCircuit(n+1)\n",
        "    \n",
        "    #Balanced Case\n",
        "    if f == \"balanced\":\n",
        "        #Wrapinng with X-gates:\n",
        "        b = np.random.randint(1,2**n)\n",
        "\n",
        "        #Converting in string\n",
        "        b_str = format(b, '0'+str(n)+'b')\n",
        "        \n",
        "        #If qubit is 1 -> X gate\n",
        "        for qubit in range(len(b_str)):\n",
        "            if b_str[qubit] == '1':\n",
        "                oracle_qc.x(qubit)\n",
        "        \n",
        "        #C-NOT gates\n",
        "        for qubit in range(n):\n",
        "            oracle_qc.cx(qubit, n)\n",
        "\n",
        "        #Final X-gates\n",
        "        for qubit in range(len(b_str)):\n",
        "            if b_str[qubit] == '1':\n",
        "                oracle_qc.x(qubit)\n",
        "\n",
        "    #Constant case\n",
        "    if f == \"constant\":\n",
        "        # First decide what the fixed output of the oracle will be\n",
        "        # (either always 0 or always 1)\n",
        "        output = np.random.randint(2)\n",
        "\n",
        "        #X gate if output is 1\n",
        "        if output == 1:\n",
        "            oracle_qc.x(n)\n",
        "    \n",
        "    oracle_gate = oracle_qc.to_gate()\n",
        "    oracle_gate.name = \"Oracle\" # To show when we display the circuit\n",
        "    return oracle_gate"
      ],
      "metadata": {
        "id": "ApTukfa4Ikjt"
      },
      "execution_count": null,
      "outputs": []
    },
    {
      "cell_type": "code",
      "source": [
        "def dj_algorithm(oracle, n):\n",
        "    dj_circuit = QuantumCircuit(n+1, n)\n",
        "    \n",
        "    #Setting output bit:\n",
        "    dj_circuit.x(n)\n",
        "    dj_circuit.h(n)\n",
        "\n",
        "    #Applying Hadamard gates\n",
        "    for qubit in range(n):\n",
        "        dj_circuit.h(qubit)\n",
        "\n",
        "    # Oracle gate to the circuit:\n",
        "    dj_circuit.append(oracle, range(n+1))\n",
        "\n",
        "    # Finally, the H-gates again and measure:\n",
        "    for qubit in range(n):\n",
        "        dj_circuit.h(qubit)\n",
        "    \n",
        "    for i in range(n):\n",
        "        dj_circuit.measure(i, i)\n",
        "    \n",
        "    return dj_circuit"
      ],
      "metadata": {
        "id": "5WIURL3XI141"
      },
      "execution_count": null,
      "outputs": []
    },
    {
      "cell_type": "code",
      "source": [
        "n = 4\n",
        "oracle_gate = oracle_function(n, 'balanced')\n",
        "dj_circuit = dj_algorithm(oracle_gate, n)\n",
        "dj_circuit.draw()"
      ],
      "metadata": {
        "colab": {
          "base_uri": "https://localhost:8080/",
          "height": 217
        },
        "id": "gbQHjbepI30u",
        "outputId": "21189dc2-b74d-49fd-a266-fb372a082424"
      },
      "execution_count": null,
      "outputs": [
        {
          "output_type": "execute_result",
          "data": {
            "text/plain": [
              "     ┌───┐     ┌─────────┐┌───┐┌─┐         \n",
              "q_0: ┤ H ├─────┤0        ├┤ H ├┤M├─────────\n",
              "     ├───┤     │         │├───┤└╥┘┌─┐      \n",
              "q_1: ┤ H ├─────┤1        ├┤ H ├─╫─┤M├──────\n",
              "     ├───┤     │         │├───┤ ║ └╥┘┌─┐   \n",
              "q_2: ┤ H ├─────┤2 Oracle ├┤ H ├─╫──╫─┤M├───\n",
              "     ├───┤     │         │├───┤ ║  ║ └╥┘┌─┐\n",
              "q_3: ┤ H ├─────┤3        ├┤ H ├─╫──╫──╫─┤M├\n",
              "     ├───┤┌───┐│         │└───┘ ║  ║  ║ └╥┘\n",
              "q_4: ┤ X ├┤ H ├┤4        ├──────╫──╫──╫──╫─\n",
              "     └───┘└───┘└─────────┘      ║  ║  ║  ║ \n",
              "c: 4/═══════════════════════════╩══╩══╩══╩═\n",
              "                                0  1  2  3 "
            ],
            "text/html": [
              "<pre style=\"word-wrap: normal;white-space: pre;background: #fff0;line-height: 1.1;font-family: &quot;Courier New&quot;,Courier,monospace\">     ┌───┐     ┌─────────┐┌───┐┌─┐         \n",
              "q_0: ┤ H ├─────┤0        ├┤ H ├┤M├─────────\n",
              "     ├───┤     │         │├───┤└╥┘┌─┐      \n",
              "q_1: ┤ H ├─────┤1        ├┤ H ├─╫─┤M├──────\n",
              "     ├───┤     │         │├───┤ ║ └╥┘┌─┐   \n",
              "q_2: ┤ H ├─────┤2 Oracle ├┤ H ├─╫──╫─┤M├───\n",
              "     ├───┤     │         │├───┤ ║  ║ └╥┘┌─┐\n",
              "q_3: ┤ H ├─────┤3        ├┤ H ├─╫──╫──╫─┤M├\n",
              "     ├───┤┌───┐│         │└───┘ ║  ║  ║ └╥┘\n",
              "q_4: ┤ X ├┤ H ├┤4        ├──────╫──╫──╫──╫─\n",
              "     └───┘└───┘└─────────┘      ║  ║  ║  ║ \n",
              "c: 4/═══════════════════════════╩══╩══╩══╩═\n",
              "                                0  1  2  3 </pre>"
            ]
          },
          "metadata": {},
          "execution_count": 33
        }
      ]
    },
    {
      "cell_type": "code",
      "source": [
        "aer_sim = Aer.get_backend('aer_simulator')\n",
        "transpiled_dj_circuit = transpile(dj_circuit, aer_sim)\n",
        "results = aer_sim.run(transpiled_dj_circuit).result()\n",
        "answer = results.get_counts()\n",
        "total = sum([i for i in answer.values()])\n",
        "\n",
        "for input,value in answer.items():\n",
        "  answer[input] = value/total\n",
        "\n",
        "plot_histogram(answer)"
      ],
      "metadata": {
        "colab": {
          "base_uri": "https://localhost:8080/",
          "height": 484
        },
        "id": "Q3ghQ9HAI5Y4",
        "outputId": "0372cc91-59cf-48aa-f1fb-c3f6e660d7d1"
      },
      "execution_count": null,
      "outputs": [
        {
          "output_type": "execute_result",
          "data": {
            "text/plain": [
              "<Figure size 700x500 with 1 Axes>"
            ],
            "image/png": "[encoded data removed]"
          },
          "metadata": {},
          "execution_count": 34
        }
      ]
    },
    {
      "cell_type": "code",
      "source": [],
      "metadata": {
        "id": "DKDlWFq1I8id"
      },
      "execution_count": null,
      "outputs": []
    }
  ]
}