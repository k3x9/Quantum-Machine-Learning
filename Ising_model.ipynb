{
  "nbformat": 4,
  "nbformat_minor": 0,
  "metadata": {
    "colab": {
      "provenance": []
    },
    "kernelspec": {
      "name": "python3",
      "display_name": "Python 3"
    },
    "language_info": {
      "name": "python"
    }
  },
  "cells": [
    {
      "cell_type": "code",
      "source": [
        "%pip install pennylane"
      ],
      "metadata": {
        "colab": {
          "base_uri": "https://localhost:8080/"
        },
        "id": "pD5-WuBXyhRA",
        "outputId": "65be2584-ed0f-48ad-af7a-211766f324f4"
      },
      "execution_count": null,
      "outputs": [
        {
          "output_type": "stream",
          "name": "stdout",
          "text": [
            "Looking in indexes: https://pypi.org/simple, https://us-python.pkg.dev/colab-wheels/public/simple/\n",
            "Collecting pennylane\n",
            "  Downloading PennyLane-0.29.1-py3-none-any.whl (1.3 MB)\n",
            "\u001b[2K     \u001b[90m━━━━━━━━━━━━━━━━━━━━━━━━━━━━━━━━━━━━━━━━\u001b[0m \u001b[32m1.3/1.3 MB\u001b[0m \u001b[31m19.1 MB/s\u001b[0m eta \u001b[36m0:00:00\u001b[0m\n",
            "\u001b[?25hCollecting retworkx\n",
            "  Downloading retworkx-0.12.1-py3-none-any.whl (10 kB)\n",
            "Collecting semantic-version>=2.7\n",
            "  Downloading semantic_version-2.10.0-py2.py3-none-any.whl (15 kB)\n",
            "Requirement already satisfied: requests in /usr/local/lib/python3.10/dist-packages (from pennylane) (2.27.1)\n",
            "Collecting autoray>=0.3.1\n",
            "  Downloading autoray-0.6.3-py3-none-any.whl (48 kB)\n",
            "\u001b[2K     \u001b[90m━━━━━━━━━━━━━━━━━━━━━━━━━━━━━━━━━━━━━━━━\u001b[0m \u001b[32m48.3/48.3 kB\u001b[0m \u001b[31m3.4 MB/s\u001b[0m eta \u001b[36m0:00:00\u001b[0m\n",
            "\u001b[?25hRequirement already satisfied: networkx in /usr/local/lib/python3.10/dist-packages (from pennylane) (3.1)\n",
            "Requirement already satisfied: autograd in /usr/local/lib/python3.10/dist-packages (from pennylane) (1.5)\n",
            "Requirement already satisfied: scipy in /usr/local/lib/python3.10/dist-packages (from pennylane) (1.10.1)\n",
            "Requirement already satisfied: cachetools in /usr/local/lib/python3.10/dist-packages (from pennylane) (5.3.0)\n",
            "Requirement already satisfied: numpy<1.24 in /usr/local/lib/python3.10/dist-packages (from pennylane) (1.22.4)\n",
            "Collecting pennylane-lightning>=0.28\n",
            "  Downloading PennyLane_Lightning-0.29.0-cp310-cp310-manylinux_2_17_x86_64.manylinux2014_x86_64.whl (16.5 MB)\n",
            "\u001b[2K     \u001b[90m━━━━━━━━━━━━━━━━━━━━━━━━━━━━━━━━━━━━━━━━\u001b[0m \u001b[32m16.5/16.5 MB\u001b[0m \u001b[31m51.0 MB/s\u001b[0m eta \u001b[36m0:00:00\u001b[0m\n",
            "\u001b[?25hRequirement already satisfied: toml in /usr/local/lib/python3.10/dist-packages (from pennylane) (0.10.2)\n",
            "Requirement already satisfied: appdirs in /usr/local/lib/python3.10/dist-packages (from pennylane) (1.4.4)\n",
            "Requirement already satisfied: future>=0.15.2 in /usr/local/lib/python3.10/dist-packages (from autograd->pennylane) (0.18.3)\n",
            "Requirement already satisfied: urllib3<1.27,>=1.21.1 in /usr/local/lib/python3.10/dist-packages (from requests->pennylane) (1.26.15)\n",
            "Requirement already satisfied: idna<4,>=2.5 in /usr/local/lib/python3.10/dist-packages (from requests->pennylane) (3.4)\n",
            "Requirement already satisfied: certifi>=2017.4.17 in /usr/local/lib/python3.10/dist-packages (from requests->pennylane) (2022.12.7)\n",
            "Requirement already satisfied: charset-normalizer~=2.0.0 in /usr/local/lib/python3.10/dist-packages (from requests->pennylane) (2.0.12)\n",
            "Collecting rustworkx==0.12.1\n",
            "  Downloading rustworkx-0.12.1-cp310-cp310-manylinux_2_17_x86_64.manylinux2014_x86_64.whl (1.9 MB)\n",
            "\u001b[2K     \u001b[90m━━━━━━━━━━━━━━━━━━━━━━━━━━━━━━━━━━━━━━━━\u001b[0m \u001b[32m1.9/1.9 MB\u001b[0m \u001b[31m48.8 MB/s\u001b[0m eta \u001b[36m0:00:00\u001b[0m\n",
            "\u001b[?25hInstalling collected packages: semantic-version, rustworkx, autoray, retworkx, pennylane-lightning, pennylane\n",
            "Successfully installed autoray-0.6.3 pennylane-0.29.1 pennylane-lightning-0.29.0 retworkx-0.12.1 rustworkx-0.12.1 semantic-version-2.10.0\n"
          ]
        }
      ]
    },
    {
      "cell_type": "markdown",
      "source": [
        "H = -1 * sum(J[i][j] * sigma[i] * sigma[j])"
      ],
      "metadata": {
        "id": "ZBfPoKwY4W2d"
      }
    },
    {
      "cell_type": "markdown",
      "source": [
        "J[i][j] = nearest neighbour coupling states"
      ],
      "metadata": {
        "id": "ch5lXOBI4yRz"
      }
    },
    {
      "cell_type": "code",
      "execution_count": null,
      "metadata": {
        "id": "7he26vQsyU-B"
      },
      "outputs": [],
      "source": [
        "import torch\n",
        "from torch.autograd import Variable\n",
        "import pennylane as qml\n",
        "from pennylane import numpy as np"
      ]
    },
    {
      "cell_type": "code",
      "source": [],
      "metadata": {
        "id": "P6SDd0br5QMT"
      },
      "execution_count": null,
      "outputs": []
    },
    {
      "cell_type": "code",
      "source": [
        "dev = qml.device(\"default.qubit\", wires=6)\n",
        "\n",
        "@qml.qnode(dev, interface=\"torch\")\n",
        "def circuit(p1, p2, p3, p4, p5):\n",
        "    qml.Rot(p1[0], p1[1], p1[2], wires=1)\n",
        "    qml.Rot(p2[0], p2[1], p2[2], wires=2)\n",
        "    qml.Rot(p3[0], p3[1], p3[2], wires=3)\n",
        "    qml.Rot(p4[0], p4[1], p4[2], wires=4)\n",
        "    qml.Rot(p5[0], p5[1], p5[2], wires=5)\n",
        "    return [qml.expval(qml.PauliZ(i)) for i in range(5)]"
      ],
      "metadata": {
        "id": "ZlCF2HoHzEBE"
      },
      "execution_count": null,
      "outputs": []
    },
    {
      "cell_type": "code",
      "source": [
        "def cost(var1, var2, var3, var4, var5):\n",
        "    spins = circuit(var1, var2, var3, var4, var5)\n",
        "\n",
        "    energy = -(1 * spins[0] * spins[1]) - (1 * spins[1] * spins[2]) - (1 * spins[2] * spins[3]) - (1 * spins[3] * spins[4])\\\n",
        "     - (1 * spins[0] * spins[2]) - (1 * spins[0] * spins[3]) - (1 * spins[0] * spins[4]) - (1 * spins[1] * spins[3])\\\n",
        "      - (1 * spins[1] * spins[4]) - (1 * spins[2] * spins[3]) - (1 * spins[2] * spins[4])\n",
        "    return energy"
      ],
      "metadata": {
        "id": "iJGum3kdzVkg"
      },
      "execution_count": null,
      "outputs": []
    },
    {
      "cell_type": "markdown",
      "source": [
        "H=−1(J1s1⊗s2+J2s2⊗s3)  where s1, s2, s3 are the three qubits"
      ],
      "metadata": {
        "id": "2YniGHorzdrg"
      }
    },
    {
      "cell_type": "code",
      "source": [
        "np.random.rand(1,3)[0]"
      ],
      "metadata": {
        "colab": {
          "base_uri": "https://localhost:8080/"
        },
        "id": "8R9SCfPbAdf3",
        "outputId": "6e6796fb-247d-4f4e-b658-952885407750"
      },
      "execution_count": null,
      "outputs": [
        {
          "output_type": "execute_result",
          "data": {
            "text/plain": [
              "tensor([0.34878512, 0.19450489, 0.99597242], requires_grad=True)"
            ]
          },
          "metadata": {},
          "execution_count": 5
        }
      ]
    },
    {
      "cell_type": "code",
      "source": [
        "#testing\n",
        "test1 = torch.tensor([0, np.pi, 0])\n",
        "test2 = torch.tensor([0, np.pi, 0])\n",
        "test3 = np.random.rand(1,3)[0]\n",
        "test4 = np.random.rand(1,3)[0]\n",
        "test5 = np.random.rand(1,3)[0]\n",
        "\n",
        "test2\n",
        "cost_check = cost(test1, test2, test3, test4, test5)\n",
        "print(\"Energy for a random spin config\", cost_check)"
      ],
      "metadata": {
        "colab": {
          "base_uri": "https://localhost:8080/"
        },
        "id": "eK6mAYibzZPG",
        "outputId": "e7d29c87-377e-4e4d-d27a-444ad17d4424"
      },
      "execution_count": null,
      "outputs": [
        {
          "output_type": "stream",
          "name": "stderr",
          "text": [
            "/usr/local/lib/python3.10/dist-packages/pennylane/math/utils.py:223: UserWarning: Contains tensors of types {'torch', 'autograd'}; dispatch will prioritize TensorFlow, PyTorch, and  Jax over Autograd. Consider replacing Autograd with vanilla NumPy.\n",
            "  warnings.warn(\n"
          ]
        },
        {
          "output_type": "stream",
          "name": "stdout",
          "text": [
            "Energy for a random spin config tensor(2.5846, dtype=torch.float64)\n"
          ]
        }
      ]
    },
    {
      "cell_type": "code",
      "source": [
        "torch.manual_seed(56)\n",
        "p1 = Variable((np.pi * torch.rand(3, dtype=torch.float64)), requires_grad=True)\n",
        "p2 = Variable((np.pi * torch.rand(3, dtype=torch.float64)), requires_grad=True)\n",
        "p3 = Variable((np.pi * torch.rand(3, dtype=torch.float64)), requires_grad=True)\n",
        "p4 = Variable((np.pi/43 * torch.rand(3, dtype=torch.float64)), requires_grad=True)\n",
        "p5 = Variable((np.pi/67 * torch.rand(3, dtype=torch.float64)), requires_grad=True)\n",
        "\n",
        "\n",
        "var_init = [p1, p2, p3, p4, p5]\n",
        "cost_init = cost(p1, p2, p3, p4, p5)\n",
        "\n",
        "print(\"Randomly initialized angles:\")\n",
        "print(p1)\n",
        "print(p2)\n",
        "print(p3)\n",
        "print(p4)\n",
        "print(p5)\n",
        "print(\"Corresponding cost before optimization:\")\n",
        "print(cost_init)"
      ],
      "metadata": {
        "colab": {
          "base_uri": "https://localhost:8080/"
        },
        "id": "RuDM4iwYzuaO",
        "outputId": "e4bc15b9-4cd2-41ea-99e9-614e1e42bbaf"
      },
      "execution_count": null,
      "outputs": [
        {
          "output_type": "stream",
          "name": "stdout",
          "text": [
            "Randomly initialized angles:\n",
            "tensor([1.9632, 2.6022, 2.3277], dtype=torch.float64, requires_grad=True)\n",
            "tensor([0.6521, 2.8474, 2.4300], dtype=torch.float64, requires_grad=True)\n",
            "tensor([1.8720, 0.7414, 2.2409], dtype=torch.float64, requires_grad=True)\n",
            "tensor([0.0085, 0.0673, 0.0376], dtype=torch.float64, requires_grad=True)\n",
            "tensor([0.0224, 0.0019, 0.0081], dtype=torch.float64, requires_grad=True)\n",
            "Corresponding cost before optimization:\n",
            "tensor(2.3782, dtype=torch.float64, grad_fn=<SubBackward0>)\n"
          ]
        }
      ]
    },
    {
      "cell_type": "code",
      "source": [],
      "metadata": {
        "id": "5qt2ythO7T68"
      },
      "execution_count": null,
      "outputs": []
    },
    {
      "cell_type": "code",
      "source": [
        "opt = torch.optim.SGD(var_init, lr=0.1)\n",
        "\n",
        "def closure():\n",
        "    opt.zero_grad()\n",
        "    loss = cost(p1, p2, p3, p4, p5)\n",
        "    loss.backward()\n",
        "    return loss\n",
        "\n",
        "var_pt = [var_init]\n",
        "cost_pt = [cost_init]\n",
        "x = [0]\n",
        "\n",
        "for i in range(150):\n",
        "    opt.step(closure)\n",
        "    if (i + 1) % 5 == 0:\n",
        "        x.append(i)\n",
        "        p1n, p2n, p3n, p4n, p5n = opt.param_groups[0][\"params\"]\n",
        "        costn = cost(p1n, p2n, p3n, p4n, p5n)\n",
        "        var_pt.append([p1n, p2n, p3n, p4n, p5n])\n",
        "        cost_pt.append(costn)\n",
        "\n",
        "        print(\"Energy after step {:5d}: {: .7f} | Angles: {}\".format(\n",
        "            i+1, costn, [p1n.detach().numpy(), p2n.detach().numpy(), p3n.detach().numpy(), p4n.detach().numpy(), p5n.detach().numpy()]),\"\\n\"\n",
        "        )"
      ],
      "metadata": {
        "colab": {
          "base_uri": "https://localhost:8080/"
        },
        "id": "FR9iwW9Ez5nP",
        "outputId": "e8ba79bc-5f7e-441f-e88e-929e0335d0d7"
      },
      "execution_count": null,
      "outputs": [
        {
          "output_type": "stream",
          "name": "stdout",
          "text": [
            "Energy after step     5:  0.6044658 | Angles: [array([1.96323939, 1.99700104, 2.32767565]), array([0.65212549, 2.24183822, 2.4299563 ]), array([1.87199129, 0.91139522, 2.24092956]), array([0.00851357, 0.06481105, 0.03761078]), array([0.02241117, 0.00194013, 0.00807991])] \n",
            "\n",
            "Energy after step    10: -8.5191267 | Angles: [array([1.96323939, 0.77402313, 2.32767565]), array([0.65212549, 0.6864244 , 2.4299563 ]), array([1.87199129, 0.35931748, 2.24092956]), array([0.00851357, 0.02654839, 0.03761078]), array([0.02241117, 0.00194013, 0.00807991])] \n",
            "\n",
            "Energy after step    15: -10.9874808 | Angles: [array([1.96323939, 0.07135118, 2.32767565]), array([0.65212549, 0.02695949, 2.4299563 ]), array([1.87199129, 0.01434511, 2.24092956]), array([0.00851357, 0.00239413, 0.03761078]), array([0.02241117, 0.00194013, 0.00807991])] \n",
            "\n",
            "Energy after step    20: -10.9999360 | Angles: [array([1.96323939, 0.00555372, 2.32767565]), array([6.52125492e-01, 8.43333270e-04, 2.42995630e+00]), array([1.87199129e+00, 4.48747054e-04, 2.24092956e+00]), array([0.00851357, 0.00018631, 0.03761078]), array([0.02241117, 0.00194013, 0.00807991])] \n",
            "\n",
            "Energy after step    25: -10.9999996 | Angles: [array([1.96323939e+00, 4.31859842e-04, 2.32767565e+00]), array([6.52125492e-01, 2.63542967e-05, 2.42995630e+00]), array([1.87199129e+00, 1.40234160e-05, 2.24092956e+00]), array([8.51356585e-03, 1.44875095e-05, 3.76107828e-02]), array([0.02241117, 0.00194013, 0.00807991])] \n",
            "\n",
            "Energy after step    30: -11.0000000 | Angles: [array([1.96323939e+00, 3.35814224e-05, 2.32767565e+00]), array([6.52125492e-01, 8.23571795e-07, 2.42995630e+00]), array([1.87199129e+00, 4.38231762e-07, 2.24092956e+00]), array([8.51356585e-03, 1.12654877e-06, 3.76107828e-02]), array([0.02241117, 0.00194013, 0.00807991])] \n",
            "\n",
            "Energy after step    35: -11.0000000 | Angles: [array([1.96323939e+00, 2.61129141e-06, 2.32767565e+00]), array([6.52125492e-01, 2.57366186e-08, 2.42995630e+00]), array([1.87199129e+00, 1.36947426e-08, 2.24092956e+00]), array([8.51356585e-03, 8.76004323e-08, 3.76107828e-02]), array([0.02241117, 0.00194013, 0.00807991])] \n",
            "\n",
            "Energy after step    40: -11.0000000 | Angles: [array([1.96323939e+00, 2.03054020e-07, 2.32767565e+00]), array([6.52125492e-01, 8.04269331e-10, 2.42995630e+00]), array([1.87199129e+00, 4.27960705e-10, 2.24092956e+00]), array([8.51356585e-03, 6.81180962e-09, 3.76107828e-02]), array([0.02241117, 0.00194013, 0.00807991])] \n",
            "\n",
            "Energy after step    45: -11.0000000 | Angles: [array([1.96323939e+00, 1.57894806e-08, 2.32767565e+00]), array([6.52125492e-01, 2.51334166e-11, 2.42995630e+00]), array([1.87199129e+00, 1.33737720e-11, 2.24092956e+00]), array([8.51356585e-03, 5.29686316e-10, 3.76107828e-02]), array([0.02241117, 0.00194013, 0.00807991])] \n",
            "\n",
            "Energy after step    50: -11.0000000 | Angles: [array([1.96323939e+00, 1.22779001e-09, 2.32767565e+00]), array([6.52125492e-01, 7.85419268e-13, 2.42995630e+00]), array([1.87199129e+00, 4.17930376e-13, 2.24092956e+00]), array([8.51356585e-03, 4.11884079e-11, 3.76107828e-02]), array([0.02241117, 0.00194013, 0.00807991])] \n",
            "\n",
            "Energy after step    55: -11.0000000 | Angles: [array([1.96323939e+00, 9.54729512e-11, 2.32767565e+00]), array([6.52125492e-01, 2.45443521e-14, 2.42995630e+00]), array([1.87199129e+00, 1.30603242e-14, 2.24092956e+00]), array([8.51356585e-03, 3.20281060e-12, 3.76107828e-02]), array([0.02241117, 0.00194013, 0.00807991])] \n",
            "\n",
            "Energy after step    60: -11.0000000 | Angles: [array([1.96323939e+00, 7.42397668e-12, 2.32767565e+00]), array([6.52125492e-01, 7.67011004e-16, 2.42995630e+00]), array([1.87199129e+00, 4.08135133e-16, 2.24092956e+00]), array([8.51356585e-03, 2.49050552e-13, 3.76107828e-02]), array([0.02241117, 0.00194013, 0.00807991])] \n",
            "\n",
            "Energy after step    65: -11.0000000 | Angles: [array([1.96323939e+00, 5.77288427e-13, 2.32767565e+00]), array([6.52125492e-01, 2.39690939e-17, 2.42995630e+00]), array([1.87199129e+00, 1.27542229e-17, 2.24092956e+00]), array([8.51356585e-03, 1.93661709e-14, 3.76107828e-02]), array([0.02241117, 0.00194013, 0.00807991])] \n",
            "\n",
            "Energy after step    70: -11.0000000 | Angles: [array([1.96323939e+00, 4.48899481e-14, 2.32767565e+00]), array([6.52125492e-01, 7.49034184e-19, 2.42995630e+00]), array([1.87199129e+00, 3.98569466e-19, 2.24092956e+00]), array([8.51356585e-03, 1.50591345e-15, 3.76107828e-02]), array([0.02241117, 0.00194013, 0.00807991])] \n",
            "\n",
            "Energy after step    75: -11.0000000 | Angles: [array([1.96323939e+00, 3.49064236e-15, 2.32767565e+00]), array([6.52125492e-01, 2.34073182e-20, 2.42995630e+00]), array([1.87199129e+00, 1.24552958e-20, 2.24092956e+00]), array([8.51356585e-03, 1.17099830e-16, 3.76107828e-02]), array([0.02241117, 0.00194013, 0.00807991])] \n",
            "\n",
            "Energy after step    80: -11.0000000 | Angles: [array([1.96323939e+00, 2.71432350e-16, 2.32767565e+00]), array([6.52125492e-01, 7.31478695e-22, 2.42995630e+00]), array([1.87199129e+00, 3.89227994e-22, 2.24092956e+00]), array([8.51356585e-03, 9.10568279e-18, 3.76107828e-02]), array([0.02241117, 0.00194013, 0.00807991])] \n",
            "\n",
            "Energy after step    85: -11.0000000 | Angles: [array([1.96323939e+00, 2.11065795e-17, 2.32767565e+00]), array([6.52125492e-01, 2.28587092e-23, 2.42995630e+00]), array([1.87199129e+00, 1.21633748e-23, 2.24092956e+00]), array([8.51356585e-03, 7.08057893e-19, 3.76107828e-02]), array([0.02241117, 0.00194013, 0.00807991])] \n",
            "\n",
            "Energy after step    90: -11.0000000 | Angles: [array([1.96323939e+00, 1.64124763e-18, 2.32767565e+00]), array([6.52125492e-01, 7.14334663e-25, 2.42995630e+00]), array([1.87199129e+00, 3.80105463e-25, 2.24092956e+00]), array([8.51356585e-03, 5.50585818e-20, 3.76107828e-02]), array([0.02241117, 0.00194013, 0.00807991])] \n",
            "\n",
            "Energy after step    95: -11.0000000 | Angles: [array([1.96323939e+00, 1.27623415e-19, 2.32767565e+00]), array([6.52125492e-01, 2.23229582e-26, 2.42995630e+00]), array([1.87199129e+00, 1.18782957e-26, 2.24092956e+00]), array([8.51356585e-03, 4.28135532e-21, 3.76107828e-02]), array([0.02241117, 0.00194013, 0.00807991])] \n",
            "\n",
            "Energy after step   100: -11.0000000 | Angles: [array([1.96323939e+00, 9.92399678e-21, 2.32767565e+00]), array([6.52125492e-01, 6.97592445e-28, 2.42995630e+00]), array([1.87199129e+00, 3.71196741e-28, 2.24092956e+00]), array([8.51356585e-03, 3.32918190e-22, 3.76107828e-02]), array([0.02241117, 0.00194013, 0.00807991])] \n",
            "\n",
            "Energy after step   105: -11.0000000 | Angles: [array([1.96323939e+00, 7.71689989e-22, 2.32767565e+00]), array([6.52125492e-01, 2.17997639e-29, 2.42995630e+00]), array([1.87199129e+00, 1.15998981e-29, 2.24092956e+00]), array([8.51356585e-03, 2.58877184e-23, 3.76107828e-02]), array([0.02241117, 0.00194013, 0.00807991])] \n",
            "\n",
            "Energy after step   110: -11.0000000 | Angles: [array([1.96323939e+00, 6.00066136e-23, 2.32767565e+00]), array([6.52125492e-01, 6.81242622e-31, 2.42995630e+00]), array([1.87199129e+00, 3.62496817e-31, 2.24092956e+00]), array([8.51356585e-03, 2.01302899e-24, 3.76107828e-02]), array([0.02241117, 0.00194013, 0.00807991])] \n",
            "\n",
            "Energy after step   115: -11.0000000 | Angles: [array([1.96323939e+00, 4.66611427e-24, 2.32767565e+00]), array([6.52125492e-01, 2.12888319e-32, 2.42995630e+00]), array([1.87199129e+00, 1.13280255e-32, 2.24092956e+00]), array([8.51356585e-03, 1.56533134e-25, 3.76107828e-02]), array([0.02241117, 0.00194013, 0.00807991])] \n",
            "\n",
            "Energy after step   120: -11.0000000 | Angles: [array([1.96323939e+00, 3.62837046e-25, 2.32767565e+00]), array([6.52125492e-01, 6.65275998e-34, 2.42995630e+00]), array([1.87199129e+00, 3.54000798e-34, 2.24092956e+00]), array([8.51356585e-03, 1.21720165e-26, 3.76107828e-02]), array([0.02241117, 0.00194013, 0.00807991])] \n",
            "\n",
            "Energy after step   125: -11.0000000 | Angles: [array([1.96323939e+00, 2.82142087e-26, 2.32767565e+00]), array([6.52125492e-01, 2.07898749e-35, 2.42995630e+00]), array([1.87199129e+00, 1.10625249e-35, 2.24092956e+00]), array([8.51356585e-03, 9.46496002e-28, 3.76107828e-02]), array([0.02241117, 0.00194013, 0.00807991])] \n",
            "\n",
            "Energy after step   130: -11.0000000 | Angles: [array([1.96323939e+00, 2.19393687e-27, 2.32767565e+00]), array([6.52125492e-01, 6.49683592e-37, 2.42995630e+00]), array([1.87199129e+00, 3.45703904e-37, 2.24092956e+00]), array([8.51356585e-03, 7.35995291e-29, 3.76107828e-02]), array([0.02241117, 0.00194013, 0.00807991])] \n",
            "\n",
            "Energy after step   135: -11.0000000 | Angles: [array([1.96323939e+00, 1.70600531e-28, 2.32767565e+00]), array([6.52125492e-01, 2.03026122e-38, 2.42995630e+00]), array([1.87199129e+00, 1.08032470e-38, 2.24092956e+00]), array([8.51356585e-03, 5.72309939e-30, 3.76107828e-02]), array([0.02241117, 0.00194013, 0.00807991])] \n",
            "\n",
            "Energy after step   140: -11.0000000 | Angles: [array([1.96323939e+00, 1.32658973e-29, 2.32767565e+00]), array([6.52125492e-01, 6.34456632e-40, 2.42995630e+00]), array([1.87199129e+00, 3.37601469e-40, 2.24092956e+00]), array([8.51356585e-03, 4.45028208e-31, 3.76107828e-02]), array([0.02241117, 0.00194013, 0.00807991])] \n",
            "\n",
            "Energy after step   145: -11.0000000 | Angles: [array([1.96323939e+00, 1.03155617e-30, 2.32767565e+00]), array([6.52125492e-01, 1.98267698e-41, 2.42995630e+00]), array([1.87199129e+00, 1.05500459e-41, 2.24092956e+00]), array([8.51356585e-03, 3.46053935e-32, 3.76107828e-02]), array([0.02241117, 0.00194013, 0.00807991])] \n",
            "\n",
            "Energy after step   150: -11.0000000 | Angles: [array([1.96323939e+00, 8.02138079e-32, 2.32767565e+00]), array([6.52125492e-01, 6.19586555e-43, 2.42995630e+00]), array([1.87199129e+00, 3.29688935e-43, 2.24092956e+00]), array([8.51356585e-03, 2.69091540e-33, 3.76107828e-02]), array([0.02241117, 0.00194013, 0.00807991])] \n",
            "\n"
          ]
        }
      ]
    },
    {
      "cell_type": "markdown",
      "source": [
        "Minimum energy = -2, calculated by gradient descent"
      ],
      "metadata": {
        "id": "1CxUHZzB0H0_"
      }
    },
    {
      "cell_type": "code",
      "source": [
        "p1_final, p2_final, p3_final, p4_final, p5_final = opt.param_groups[0][\"params\"]\n",
        "print(\"Optimized angles:\")\n",
        "print(p1_final)\n",
        "print(p2_final)\n",
        "print(p3_final)\n",
        "print(p4_final)\n",
        "print(p5_final)\n",
        "\n",
        "print(\"Final cost after optimization:\")\n",
        "print(cost(p1_final, p2_final, p3_final, p4_final, p5_final))"
      ],
      "metadata": {
        "colab": {
          "base_uri": "https://localhost:8080/"
        },
        "id": "wNMxRAKSz9tU",
        "outputId": "dbc9faa2-fcb7-4f5d-a001-16942621e584"
      },
      "execution_count": null,
      "outputs": [
        {
          "output_type": "stream",
          "name": "stdout",
          "text": [
            "Optimized angles:\n",
            "tensor([1.9632e+00, 8.0214e-32, 2.3277e+00], dtype=torch.float64,\n",
            "       requires_grad=True)\n",
            "tensor([6.5213e-01, 6.1959e-43, 2.4300e+00], dtype=torch.float64,\n",
            "       requires_grad=True)\n",
            "tensor([1.8720e+00, 3.2969e-43, 2.2409e+00], dtype=torch.float64,\n",
            "       requires_grad=True)\n",
            "tensor([8.5136e-03, 2.6909e-33, 3.7611e-02], dtype=torch.float64,\n",
            "       requires_grad=True)\n",
            "tensor([0.0224, 0.0019, 0.0081], dtype=torch.float64, requires_grad=True)\n",
            "Final cost after optimization:\n",
            "tensor(-11.0000, dtype=torch.float64, grad_fn=<SubBackward0>)\n"
          ]
        }
      ]
    },
    {
      "cell_type": "code",
      "source": [
        "#plot\n",
        "import matplotlib\n",
        "import matplotlib.pyplot as plt\n",
        "\n",
        "fig = plt.figure(figsize=(6, 4))\n",
        "\n",
        "# Enable processing the Torch trainable tensors\n",
        "with torch.no_grad():\n",
        "    plt.plot(x, cost_pt, label = 'global minimum')\n",
        "    plt.xlabel(\"Optimization steps\")\n",
        "    plt.ylabel(\"Cost / Energy\")\n",
        "    plt.legend()\n",
        "    plt.show()"
      ],
      "metadata": {
        "colab": {
          "base_uri": "https://localhost:8080/",
          "height": 388
        },
        "id": "ckKaw8Lr0V5a",
        "outputId": "fc4b6d1a-b24c-48e6-b28c-c0da7d5b0bb5"
      },
      "execution_count": null,
      "outputs": [
        {
          "output_type": "display_data",
          "data": {
            "text/plain": [
              "<Figure size 600x400 with 1 Axes>"
            ],
            "image/png": "[encoded data removed]"
          },
          "metadata": {}
        }
      ]
    }
  ]
}